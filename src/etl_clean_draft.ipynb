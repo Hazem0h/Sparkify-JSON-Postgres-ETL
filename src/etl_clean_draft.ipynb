{
 "cells": [
  {
   "cell_type": "code",
   "execution_count": 1,
   "metadata": {},
   "outputs": [],
   "source": [
    "import os\n",
    "import glob\n",
    "import psycopg2\n",
    "import pandas as pd\n",
    "import numpy as np\n",
    "import json\n",
    "import sql_queries\n",
    "from typing import List"
   ]
  },
  {
   "cell_type": "markdown",
   "metadata": {},
   "source": [
    "Connecting to the database"
   ]
  },
  {
   "cell_type": "code",
   "execution_count": 2,
   "metadata": {},
   "outputs": [],
   "source": [
    "with open(\"../config.json\") as f:\n",
    "    config = json.load(f)\n",
    "    \n",
    "conn = psycopg2.connect(host = config[\"host\"],\n",
    "                        dbname = config[\"dbname\"],\n",
    "                        user = config[\"username\"],\n",
    "                        password = config[\"password\"])\n",
    "\n",
    "conn.set_session(autocommit=True)\n",
    "cur = conn.cursor()"
   ]
  },
  {
   "cell_type": "markdown",
   "metadata": {},
   "source": [
    "Since the json files are split across different directories, we can write a function that gets all files under the parent directory"
   ]
  },
  {
   "cell_type": "code",
   "execution_count": 3,
   "metadata": {},
   "outputs": [],
   "source": [
    "def get_files(filepath:str) -> List[str]:\n",
    "    \"\"\"returns all json files in the directory tree under the filepath\n",
    "\n",
    "    Arguments:\n",
    "        filepath -- the root path\n",
    "\n",
    "    Returns:\n",
    "        a list of json filepaths under the root path\n",
    "    \"\"\"\n",
    "    all_files = []\n",
    "    for root, dirs, files in os.walk(filepath):\n",
    "        files = glob.glob(os.path.join(root,'*.json'))\n",
    "        for f in files :\n",
    "            all_files.append(os.path.abspath(f))\n",
    "    \n",
    "    return all_files"
   ]
  },
  {
   "cell_type": "markdown",
   "metadata": {},
   "source": [
    "# Part 1: The Songs Files\n",
    "Using the files under the songs directory, \n",
    "We can fill the \n",
    "* `songs table`\n",
    "* `artist table`\n",
    "\n",
    "After adding the foreign key constraints (in the script), we will have to insert the artist data first, because the songs table depends on it.\n",
    "\n",
    "This is an exploratory phase, so adding the constraints early can introduce undesired complications"
   ]
  },
  {
   "cell_type": "code",
   "execution_count": 4,
   "metadata": {},
   "outputs": [],
   "source": [
    "song_files = get_files(\"../data/song_data/\")"
   ]
  },
  {
   "cell_type": "code",
   "execution_count": 5,
   "metadata": {},
   "outputs": [
    {
     "data": {
      "text/html": [
       "<div>\n",
       "<style scoped>\n",
       "    .dataframe tbody tr th:only-of-type {\n",
       "        vertical-align: middle;\n",
       "    }\n",
       "\n",
       "    .dataframe tbody tr th {\n",
       "        vertical-align: top;\n",
       "    }\n",
       "\n",
       "    .dataframe thead th {\n",
       "        text-align: right;\n",
       "    }\n",
       "</style>\n",
       "<table border=\"1\" class=\"dataframe\">\n",
       "  <thead>\n",
       "    <tr style=\"text-align: right;\">\n",
       "      <th></th>\n",
       "      <th>num_songs</th>\n",
       "      <th>artist_id</th>\n",
       "      <th>artist_latitude</th>\n",
       "      <th>artist_longitude</th>\n",
       "      <th>artist_location</th>\n",
       "      <th>artist_name</th>\n",
       "      <th>song_id</th>\n",
       "      <th>title</th>\n",
       "      <th>duration</th>\n",
       "      <th>year</th>\n",
       "    </tr>\n",
       "  </thead>\n",
       "  <tbody>\n",
       "    <tr>\n",
       "      <th>0</th>\n",
       "      <td>1</td>\n",
       "      <td>ARD7TVE1187B99BFB1</td>\n",
       "      <td>NaN</td>\n",
       "      <td>NaN</td>\n",
       "      <td>California - LA</td>\n",
       "      <td>Casual</td>\n",
       "      <td>SOMZWCG12A8C13C480</td>\n",
       "      <td>I Didn't Mean To</td>\n",
       "      <td>218.93179</td>\n",
       "      <td>0</td>\n",
       "    </tr>\n",
       "  </tbody>\n",
       "</table>\n",
       "</div>"
      ],
      "text/plain": [
       "   num_songs           artist_id  artist_latitude  artist_longitude  \\\n",
       "0          1  ARD7TVE1187B99BFB1              NaN               NaN   \n",
       "\n",
       "   artist_location artist_name             song_id             title  \\\n",
       "0  California - LA      Casual  SOMZWCG12A8C13C480  I Didn't Mean To   \n",
       "\n",
       "    duration  year  \n",
       "0  218.93179     0  "
      ]
     },
     "execution_count": 5,
     "metadata": {},
     "output_type": "execute_result"
    }
   ],
   "source": [
    "df_songs_artists = pd.read_json(song_files[0], lines = True)    \n",
    "df_songs_artists.head()"
   ]
  },
  {
   "cell_type": "markdown",
   "metadata": {},
   "source": [
    "### 1.1 Trying to insert into the Songs table\n",
    "For the songs table, we are only concerned with the following columns:\n",
    "* `song_id`\n",
    "* `title`\n",
    "* `artist_id`\n",
    "* `duration`\n",
    "* `year`\n",
    "\n"
   ]
  },
  {
   "cell_type": "code",
   "execution_count": 6,
   "metadata": {},
   "outputs": [
    {
     "data": {
      "text/html": [
       "<div>\n",
       "<style scoped>\n",
       "    .dataframe tbody tr th:only-of-type {\n",
       "        vertical-align: middle;\n",
       "    }\n",
       "\n",
       "    .dataframe tbody tr th {\n",
       "        vertical-align: top;\n",
       "    }\n",
       "\n",
       "    .dataframe thead th {\n",
       "        text-align: right;\n",
       "    }\n",
       "</style>\n",
       "<table border=\"1\" class=\"dataframe\">\n",
       "  <thead>\n",
       "    <tr style=\"text-align: right;\">\n",
       "      <th></th>\n",
       "      <th>song_id</th>\n",
       "      <th>title</th>\n",
       "      <th>artist_id</th>\n",
       "      <th>duration</th>\n",
       "      <th>year</th>\n",
       "    </tr>\n",
       "  </thead>\n",
       "  <tbody>\n",
       "    <tr>\n",
       "      <th>0</th>\n",
       "      <td>SOMZWCG12A8C13C480</td>\n",
       "      <td>I Didn't Mean To</td>\n",
       "      <td>ARD7TVE1187B99BFB1</td>\n",
       "      <td>218.93179</td>\n",
       "      <td>0</td>\n",
       "    </tr>\n",
       "  </tbody>\n",
       "</table>\n",
       "</div>"
      ],
      "text/plain": [
       "              song_id             title           artist_id   duration  year\n",
       "0  SOMZWCG12A8C13C480  I Didn't Mean To  ARD7TVE1187B99BFB1  218.93179     0"
      ]
     },
     "execution_count": 6,
     "metadata": {},
     "output_type": "execute_result"
    }
   ],
   "source": [
    "song_columns = [\"song_id\", \"title\", \"artist_id\", \"duration\", \"year\"]\n",
    "df_songs = df_songs_artists[song_columns].copy()\n",
    "df_songs"
   ]
  },
  {
   "cell_type": "code",
   "execution_count": 7,
   "metadata": {},
   "outputs": [
    {
     "data": {
      "text/plain": [
       "['SOMZWCG12A8C13C480', \"I Didn't Mean To\", 'ARD7TVE1187B99BFB1', 218.93179, 0]"
      ]
     },
     "execution_count": 7,
     "metadata": {},
     "output_type": "execute_result"
    }
   ],
   "source": [
    "songs_data = list(df_songs.iloc[0].values)\n",
    "songs_data"
   ]
  },
  {
   "cell_type": "markdown",
   "metadata": {},
   "source": [
    "Now, let's try inserting it into the database"
   ]
  },
  {
   "cell_type": "code",
   "execution_count": 8,
   "metadata": {},
   "outputs": [
    {
     "ename": "ProgrammingError",
     "evalue": "can't adapt type 'numpy.int64'",
     "output_type": "error",
     "traceback": [
      "\u001b[1;31m---------------------------------------------------------------------------\u001b[0m",
      "\u001b[1;31mProgrammingError\u001b[0m                          Traceback (most recent call last)",
      "Cell \u001b[1;32mIn [8], line 1\u001b[0m\n\u001b[1;32m----> 1\u001b[0m cur\u001b[39m.\u001b[39;49mexecute(sql_queries\u001b[39m.\u001b[39;49msong_table_insert, songs_data)\n",
      "\u001b[1;31mProgrammingError\u001b[0m: can't adapt type 'numpy.int64'"
     ]
    }
   ],
   "source": [
    "cur.execute(sql_queries.song_table_insert, songs_data)"
   ]
  },
  {
   "cell_type": "markdown",
   "metadata": {},
   "source": [
    "That's a problem with numpy datatypes. Pyscopg2 doesn't know how to convert them correctly. We can handle that as in this [stackoverflow post](https://stackoverflow.com/questions/50626058/psycopg2-cant-adapt-type-numpy-int64)"
   ]
  },
  {
   "cell_type": "code",
   "execution_count": null,
   "metadata": {},
   "outputs": [],
   "source": [
    "import numpy as np\n",
    "from psycopg2.extensions import register_adapter\n",
    "def adapt_np_int(np_int:np.int64):\n",
    "    _INT = psycopg2.extensions.Int\n",
    "    return _INT(np_int)\n",
    "    \n",
    "register_adapter(np.int64, adapt_np_int)"
   ]
  },
  {
   "cell_type": "markdown",
   "metadata": {},
   "source": [
    "This way, pyscopg2 is adapted to convert `np.int` types into `int` types.\n",
    "\n",
    "We can try our insert again"
   ]
  },
  {
   "cell_type": "code",
   "execution_count": null,
   "metadata": {},
   "outputs": [],
   "source": [
    "cur.execute(sql_queries.song_table_insert, songs_data)"
   ]
  },
  {
   "cell_type": "markdown",
   "metadata": {},
   "source": [
    "Now for a sanity check"
   ]
  },
  {
   "cell_type": "code",
   "execution_count": null,
   "metadata": {},
   "outputs": [
    {
     "name": "stdout",
     "output_type": "stream",
     "text": [
      "[('SOMZWCG12A8C13C480', \"I Didn't Mean To\", 'ARD7TVE1187B99BFB1', 219, 0.0)]\n"
     ]
    }
   ],
   "source": [
    "cur.execute(\"SELECT * FROM song\")\n",
    "res = cur.fetchall()\n",
    "print(res)"
   ]
  },
  {
   "cell_type": "markdown",
   "metadata": {},
   "source": [
    "### 1.2 Trying to insert into the artist table\n",
    "\n",
    "This time, we are concerned with the following columns\n",
    "* `artist_id`\n",
    "* `artist_name`\n",
    "* `location`\n",
    "* `longitude`\n",
    "* `latitude`"
   ]
  },
  {
   "cell_type": "code",
   "execution_count": null,
   "metadata": {},
   "outputs": [
    {
     "data": {
      "text/html": [
       "<div>\n",
       "<style scoped>\n",
       "    .dataframe tbody tr th:only-of-type {\n",
       "        vertical-align: middle;\n",
       "    }\n",
       "\n",
       "    .dataframe tbody tr th {\n",
       "        vertical-align: top;\n",
       "    }\n",
       "\n",
       "    .dataframe thead th {\n",
       "        text-align: right;\n",
       "    }\n",
       "</style>\n",
       "<table border=\"1\" class=\"dataframe\">\n",
       "  <thead>\n",
       "    <tr style=\"text-align: right;\">\n",
       "      <th></th>\n",
       "      <th>artist_id</th>\n",
       "      <th>artist_name</th>\n",
       "      <th>artist_location</th>\n",
       "      <th>artist_latitude</th>\n",
       "      <th>artist_longitude</th>\n",
       "    </tr>\n",
       "  </thead>\n",
       "  <tbody>\n",
       "    <tr>\n",
       "      <th>0</th>\n",
       "      <td>ARD7TVE1187B99BFB1</td>\n",
       "      <td>Casual</td>\n",
       "      <td>California - LA</td>\n",
       "      <td>NaN</td>\n",
       "      <td>NaN</td>\n",
       "    </tr>\n",
       "  </tbody>\n",
       "</table>\n",
       "</div>"
      ],
      "text/plain": [
       "            artist_id artist_name  artist_location  artist_latitude  \\\n",
       "0  ARD7TVE1187B99BFB1      Casual  California - LA              NaN   \n",
       "\n",
       "   artist_longitude  \n",
       "0               NaN  "
      ]
     },
     "execution_count": 12,
     "metadata": {},
     "output_type": "execute_result"
    }
   ],
   "source": [
    "columns = [\"artist_id\", \"artist_name\", \"artist_location\",\"artist_latitude\", \"artist_longitude\", ]\n",
    "df_artists = df_songs_artists[columns].copy()\n",
    "df_artists"
   ]
  },
  {
   "cell_type": "markdown",
   "metadata": {},
   "source": [
    "It's important to note that the `Nan` is a `np.float` value. So, while inserting it in the database, it won't be `NULL`\n",
    "\n",
    "We can handle this via an adapter, as we did with the `np.int`"
   ]
  },
  {
   "cell_type": "code",
   "execution_count": null,
   "metadata": {},
   "outputs": [],
   "source": [
    "def adapt_np_float_and_nans(value):\n",
    "    _FLOAT = psycopg2.extensions.Float\n",
    "    _NULL = psycopg2.extensions.AsIs(\"NULL\")\n",
    "    if np.isnan(value):\n",
    "        return _NULL\n",
    "    return _FLOAT(value)\n",
    "    \n",
    "register_adapter(np.float64, adapt_np_float_and_nans)"
   ]
  },
  {
   "cell_type": "code",
   "execution_count": null,
   "metadata": {},
   "outputs": [],
   "source": [
    "artist_data = list(df_artists.iloc[0].values)\n",
    "cur.execute(sql_queries.artist_table_insert, artist_data)"
   ]
  },
  {
   "cell_type": "markdown",
   "metadata": {},
   "source": [
    "Sanity Check"
   ]
  },
  {
   "cell_type": "code",
   "execution_count": null,
   "metadata": {},
   "outputs": [
    {
     "name": "stdout",
     "output_type": "stream",
     "text": [
      "[('ARD7TVE1187B99BFB1', 'Casual', 'California - LA', None, None)]\n"
     ]
    }
   ],
   "source": [
    "cur.execute(\"SELECT * FROM artist\")\n",
    "res = cur.fetchall()\n",
    "print(res)"
   ]
  },
  {
   "cell_type": "markdown",
   "metadata": {},
   "source": [
    "# Part 2: The Log data\n",
    "\n",
    "From the data under the `log_data` directory, we can fill in\n",
    "* `user` table\n",
    "* `time` table\n",
    "* `songplay` table"
   ]
  },
  {
   "cell_type": "code",
   "execution_count": 10,
   "metadata": {},
   "outputs": [
    {
     "data": {
      "text/html": [
       "<div>\n",
       "<style scoped>\n",
       "    .dataframe tbody tr th:only-of-type {\n",
       "        vertical-align: middle;\n",
       "    }\n",
       "\n",
       "    .dataframe tbody tr th {\n",
       "        vertical-align: top;\n",
       "    }\n",
       "\n",
       "    .dataframe thead th {\n",
       "        text-align: right;\n",
       "    }\n",
       "</style>\n",
       "<table border=\"1\" class=\"dataframe\">\n",
       "  <thead>\n",
       "    <tr style=\"text-align: right;\">\n",
       "      <th></th>\n",
       "      <th>artist</th>\n",
       "      <th>auth</th>\n",
       "      <th>firstName</th>\n",
       "      <th>gender</th>\n",
       "      <th>itemInSession</th>\n",
       "      <th>lastName</th>\n",
       "      <th>length</th>\n",
       "      <th>level</th>\n",
       "      <th>location</th>\n",
       "      <th>method</th>\n",
       "      <th>page</th>\n",
       "      <th>registration</th>\n",
       "      <th>sessionId</th>\n",
       "      <th>song</th>\n",
       "      <th>status</th>\n",
       "      <th>ts</th>\n",
       "      <th>userAgent</th>\n",
       "      <th>userId</th>\n",
       "    </tr>\n",
       "  </thead>\n",
       "  <tbody>\n",
       "    <tr>\n",
       "      <th>0</th>\n",
       "      <td>None</td>\n",
       "      <td>Logged In</td>\n",
       "      <td>Walter</td>\n",
       "      <td>M</td>\n",
       "      <td>0</td>\n",
       "      <td>Frye</td>\n",
       "      <td>NaN</td>\n",
       "      <td>free</td>\n",
       "      <td>San Francisco-Oakland-Hayward, CA</td>\n",
       "      <td>GET</td>\n",
       "      <td>Home</td>\n",
       "      <td>1540919166796</td>\n",
       "      <td>38</td>\n",
       "      <td>None</td>\n",
       "      <td>200</td>\n",
       "      <td>1541105830796</td>\n",
       "      <td>\"Mozilla/5.0 (Macintosh; Intel Mac OS X 10_9_4...</td>\n",
       "      <td>39</td>\n",
       "    </tr>\n",
       "    <tr>\n",
       "      <th>1</th>\n",
       "      <td>None</td>\n",
       "      <td>Logged In</td>\n",
       "      <td>Kaylee</td>\n",
       "      <td>F</td>\n",
       "      <td>0</td>\n",
       "      <td>Summers</td>\n",
       "      <td>NaN</td>\n",
       "      <td>free</td>\n",
       "      <td>Phoenix-Mesa-Scottsdale, AZ</td>\n",
       "      <td>GET</td>\n",
       "      <td>Home</td>\n",
       "      <td>1540344794796</td>\n",
       "      <td>139</td>\n",
       "      <td>None</td>\n",
       "      <td>200</td>\n",
       "      <td>1541106106796</td>\n",
       "      <td>\"Mozilla/5.0 (Windows NT 6.1; WOW64) AppleWebK...</td>\n",
       "      <td>8</td>\n",
       "    </tr>\n",
       "  </tbody>\n",
       "</table>\n",
       "</div>"
      ],
      "text/plain": [
       "  artist       auth firstName gender  itemInSession lastName  length level  \\\n",
       "0   None  Logged In    Walter      M              0     Frye     NaN  free   \n",
       "1   None  Logged In    Kaylee      F              0  Summers     NaN  free   \n",
       "\n",
       "                            location method  page   registration  sessionId  \\\n",
       "0  San Francisco-Oakland-Hayward, CA    GET  Home  1540919166796         38   \n",
       "1        Phoenix-Mesa-Scottsdale, AZ    GET  Home  1540344794796        139   \n",
       "\n",
       "   song  status             ts  \\\n",
       "0  None     200  1541105830796   \n",
       "1  None     200  1541106106796   \n",
       "\n",
       "                                           userAgent  userId  \n",
       "0  \"Mozilla/5.0 (Macintosh; Intel Mac OS X 10_9_4...      39  \n",
       "1  \"Mozilla/5.0 (Windows NT 6.1; WOW64) AppleWebK...       8  "
      ]
     },
     "execution_count": 10,
     "metadata": {},
     "output_type": "execute_result"
    }
   ],
   "source": [
    "log_files = get_files(\"../data/log_data\")\n",
    "df_logs = pd.read_json(log_files[0], lines = True)\n",
    "df_logs.head(2)"
   ]
  },
  {
   "cell_type": "markdown",
   "metadata": {},
   "source": [
    "### 1.1 The users Table\n",
    "\n",
    "We should note that our user data can change. It makes sense to make them able to switch between free and premium levels. For the other data, some platforms allow this data to change, other do not, so it's up to use to decide. I will go with enabling the users to change their other information as well.\n",
    "\n",
    "As such, we should take care of the way, and order of data insertion.\n",
    "We can either\n",
    "* Read all the logs into a single dataframe, and sort it by timestamp before inserting the users,\n",
    "* Or we do it file by file and make sure we are visiting the files in chronological order. Within each file, we will still have to sort by timestamp\n",
    "\n",
    "For now, in this notebook, we will just try to insert a single record, and do a sanity check"
   ]
  },
  {
   "cell_type": "code",
   "execution_count": null,
   "metadata": {},
   "outputs": [],
   "source": []
  }
 ],
 "metadata": {
  "kernelspec": {
   "display_name": "Python 3.9.13 ('pydatabase')",
   "language": "python",
   "name": "python3"
  },
  "language_info": {
   "codemirror_mode": {
    "name": "ipython",
    "version": 3
   },
   "file_extension": ".py",
   "mimetype": "text/x-python",
   "name": "python",
   "nbconvert_exporter": "python",
   "pygments_lexer": "ipython3",
   "version": "3.9.13"
  },
  "orig_nbformat": 4,
  "vscode": {
   "interpreter": {
    "hash": "79472d9a3a644261180bada5e9286a6287aa51c02d511d14c058c083b9dd0e71"
   }
  }
 },
 "nbformat": 4,
 "nbformat_minor": 2
}
