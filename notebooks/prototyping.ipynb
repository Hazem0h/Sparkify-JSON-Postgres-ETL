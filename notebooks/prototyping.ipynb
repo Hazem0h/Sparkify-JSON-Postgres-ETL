{
 "cells": [
  {
   "cell_type": "code",
   "execution_count": null,
   "metadata": {},
   "outputs": [],
   "source": []
  }
 ],
 "metadata": {
  "kernelspec": {
   "display_name": "fastAPI",
   "language": "python",
   "name": "python3"
  },
  "language_info": {
   "name": "python",
   "version": "3.8.13 (default, Mar 28 2022, 06:59:08) [MSC v.1916 64 bit (AMD64)]"
  },
  "orig_nbformat": 4,
  "vscode": {
   "interpreter": {
    "hash": "9cbe3e5270e24a4a2674ffaa26a87edb74a455c917dd4b812bcb2194ce8bba5c"
   }
  }
 },
 "nbformat": 4,
 "nbformat_minor": 2
}
